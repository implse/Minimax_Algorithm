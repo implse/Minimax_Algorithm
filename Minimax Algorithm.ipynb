{
 "cells": [
  {
   "cell_type": "markdown",
   "metadata": {},
   "source": [
    "# Minimax"
   ]
  },
  {
   "cell_type": "markdown",
   "metadata": {},
   "source": [
    "![title](images/TicTacToe_480_360.png)"
   ]
  },
  {
   "cell_type": "markdown",
   "metadata": {},
   "source": [
    "## What is Minimax?"
   ]
  },
  {
   "cell_type": "markdown",
   "metadata": {},
   "source": [
    "The minimax algorithm is a decision making algorithm that is used for finding the best move in a two player game. It’s a recursive algorithm.\n",
    "\n",
    "It consists of navigating through a tree which captures all the possible moves in the games, where each move is represented in terms of loss and gain for one of the players.\n",
    "\n",
    "It is used in games such as tic-tac-toe, chess and many other two-player games."
   ]
  },
  {
   "cell_type": "markdown",
   "metadata": {},
   "source": [
    "## Tree Representation"
   ]
  },
  {
   "cell_type": "markdown",
   "metadata": {},
   "source": [
    "The minimax algorithm is modeled as a tree. Different elements of the game (as the current state and all possible moves) are represented as different parts of the tree. This visual representation of the game is a great aid in order to implement the minimax algorithm."
   ]
  },
  {
   "cell_type": "markdown",
   "metadata": {},
   "source": [
    "Tree Based Desicion Making consist of predict the outcome of all possible players moves then the algorithm choose the move that yields the best result."
   ]
  },
  {
   "cell_type": "markdown",
   "metadata": {},
   "source": [
    "## How Does Minimax Work?"
   ]
  },
  {
   "cell_type": "markdown",
   "metadata": {},
   "source": [
    "There are two players involved in a adverserial game, `MAX` (maximizer) and call `MIN` (minimizer).\n",
    "\n",
    "The player `MAX` tries to get the highest possible score and `MIN` tries to get the lowest possible score."
   ]
  },
  {
   "cell_type": "markdown",
   "metadata": {},
   "source": [
    "## Terminology"
   ]
  },
  {
   "cell_type": "markdown",
   "metadata": {},
   "source": [
    "**`Game Tree`**: Structure in the form of a tree consisting of all possible moves which allow you to move from a state of the game to the next.\n",
    "\n",
    "\n",
    "**`Initial State`**: specified how the game is set up at the start.\n",
    "\n",
    "\n",
    "**`Terminal State`**: Check if the game is over or not.\n",
    "\n",
    "\n",
    "**`Utility Function`**: This function assigns a numeric value for the outcome of the game.\n",
    "\n",
    "\n",
    "**`Evaluation Function`**: Heuristic evaluation function defines an estimates of the expected utility numeric value from a given state of a player. The basic idea is to give a high value for the board if maximizer's turn and low value if minimizer's turn. This function is called when the game hasn't end.\n",
    "\n",
    "**`Successor function`**: Defines what the legal movess a player can make.\n",
    "\n",
    "\n",
    "**`Maximizer MAX`**: tries to get the maximum value.(score)\n",
    "\n",
    "\n",
    "**`Minimizer MIN`**: Tries to get te minimum value.(score)"
   ]
  },
  {
   "cell_type": "markdown",
   "metadata": {},
   "source": [
    "##  Tic Tac Toe Using The Minimax Algorithm."
   ]
  },
  {
   "cell_type": "markdown",
   "metadata": {},
   "source": [
    "### Tic Tac Toe Board"
   ]
  },
  {
   "cell_type": "markdown",
   "metadata": {},
   "source": [
    "The board is represented as a list of lists."
   ]
  },
  {
   "cell_type": "code",
   "execution_count": 23,
   "metadata": {
    "collapsed": true
   },
   "outputs": [],
   "source": [
    "# Tic Tac Toe Board\n",
    "my_board = [[\"_\", \"_\", \"X\"],\n",
    "            [\"_\", \"O\", \"_\"],\n",
    "            [\"X\", \"_\", \"_\"]\n",
    "]"
   ]
  },
  {
   "cell_type": "markdown",
   "metadata": {},
   "source": [
    "### Cells"
   ]
  },
  {
   "cell_type": "code",
   "execution_count": 53,
   "metadata": {
    "collapsed": true
   },
   "outputs": [],
   "source": [
    "# X player\n",
    "X = \"X\"\n",
    "\n",
    "# O player\n",
    "O = \"O\"\n",
    "\n",
    "# Empty cell\n",
    "EMPTY = \"_\" "
   ]
  },
  {
   "cell_type": "markdown",
   "metadata": {},
   "source": [
    "### Initial State"
   ]
  },
  {
   "cell_type": "code",
   "execution_count": 54,
   "metadata": {
    "collapsed": true
   },
   "outputs": [],
   "source": [
    "# initial state : starting state of the board\n",
    "def initial_state():\n",
    "\n",
    "    return [[EMPTY, EMPTY, EMPTY],\n",
    "            [EMPTY, EMPTY, EMPTY],\n",
    "            [EMPTY, EMPTY, EMPTY]]"
   ]
  },
  {
   "cell_type": "markdown",
   "metadata": {},
   "source": [
    "### Print Board Utility"
   ]
  },
  {
   "cell_type": "code",
   "execution_count": 62,
   "metadata": {
    "collapsed": false
   },
   "outputs": [],
   "source": [
    "# Print Board Utility\n",
    "def print_board(board):\n",
    "    row_1 = \"|    \" + board[0][0] + \" \" + board[0][1] + \" \" + board[0][2] + \"    |\"\n",
    "    row_2 = \"|    \" + board[1][0] + \" \" + board[1][1] + \" \" + board[1][2] + \"    |\"\n",
    "    row_3 = \"|    \" + board[2][0] + \" \" + board[2][1] + \" \" + board[2][2] + \"    |\"\n",
    "    print(\"\\n\")\n",
    "    print(\"|-------------|\")\n",
    "    print(\"| Tic Tac Toe |\")\n",
    "    print(\"|-------------|\")\n",
    "    print(\"|             |\")\n",
    "    print(row_1)\n",
    "    print(row_2)\n",
    "    print(row_3)\n",
    "    print(\"|             |\")\n",
    "    print(\"|-------------|\")\n",
    "    print(\"\\n\")"
   ]
  },
  {
   "cell_type": "code",
   "execution_count": 63,
   "metadata": {
    "collapsed": false
   },
   "outputs": [
    {
     "name": "stdout",
     "output_type": "stream",
     "text": [
      "\n",
      "\n",
      "|-------------|\n",
      "| Tic Tac Toe |\n",
      "|-------------|\n",
      "|             |\n",
      "|    _ _ _    |\n",
      "|    _ _ _    |\n",
      "|    _ _ _    |\n",
      "|             |\n",
      "|-------------|\n",
      "\n",
      "\n"
     ]
    }
   ],
   "source": [
    "print_board(initial_state())"
   ]
  },
  {
   "cell_type": "markdown",
   "metadata": {},
   "source": [
    "### Next Player Turn"
   ]
  },
  {
   "cell_type": "code",
   "execution_count": 59,
   "metadata": {
    "collapsed": true
   },
   "outputs": [],
   "source": [
    "def player(board):\n",
    "    next_turn = 0\n",
    "    for row in board:\n",
    "        next_turn += row.count(X)\n",
    "        next_turn -= row.count(O)\n",
    "    return X if next_turn <= 0 else O"
   ]
  },
  {
   "cell_type": "markdown",
   "metadata": {},
   "source": [
    "### Available Actions"
   ]
  },
  {
   "cell_type": "code",
   "execution_count": 60,
   "metadata": {
    "collapsed": true
   },
   "outputs": [],
   "source": [
    "def actions(board):\n",
    "    available_positions = set()\n",
    "    for row in range(len(board)):\n",
    "        for col in range(len(board[0])):\n",
    "            if board[row][col] == EMPTY:\n",
    "                available_positions.add((row, col))\n",
    "    return available_positions"
   ]
  },
  {
   "cell_type": "markdown",
   "metadata": {},
   "source": [
    "### Making Action"
   ]
  },
  {
   "cell_type": "code",
   "execution_count": null,
   "metadata": {
    "collapsed": true
   },
   "outputs": [],
   "source": [
    "def result(board, action):\n",
    "    i, j = action\n",
    "    new_board = copy.deepcopy(board)\n",
    "    new_board[i][j] = player(board)\n",
    "    return new_board"
   ]
  }
 ],
 "metadata": {
  "kernelspec": {
   "display_name": "Python 3",
   "language": "python",
   "name": "python3"
  },
  "language_info": {
   "codemirror_mode": {
    "name": "ipython",
    "version": 3
   },
   "file_extension": ".py",
   "mimetype": "text/x-python",
   "name": "python",
   "nbconvert_exporter": "python",
   "pygments_lexer": "ipython3",
   "version": "3.6.0"
  }
 },
 "nbformat": 4,
 "nbformat_minor": 2
}
