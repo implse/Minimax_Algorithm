{
 "cells": [
  {
   "cell_type": "markdown",
   "metadata": {},
   "source": [
    "# Minimax"
   ]
  },
  {
   "cell_type": "markdown",
   "metadata": {},
   "source": [
    "## What is Minimax?"
   ]
  },
  {
   "cell_type": "markdown",
   "metadata": {},
   "source": [
    "Minimax is recursive algorithm which is used to choose an optimal or best move for a player assuming that the other player is also  playing optimally.\n",
    "\n",
    "It consists of navigating through a tree which captures all the possible moves in the games, where each move is represented in terms of loss and gain for one of the players.\n",
    "\n",
    "It is used in games such as tic-tac-toe, chess and many other two-player games."
   ]
  },
  {
   "cell_type": "markdown",
   "metadata": {},
   "source": [
    "## Terminology"
   ]
  },
  {
   "cell_type": "markdown",
   "metadata": {},
   "source": [
    "**Game Tree**: Structure in the form of a tree consisting of all possible moves which allow you to move from a state of the game to the next.\n",
    "\n",
    "**Initial State**: specified how the game is set up at the start."
   ]
  }
 ],
 "metadata": {
  "kernelspec": {
   "display_name": "Python 3",
   "language": "python",
   "name": "python3"
  },
  "language_info": {
   "codemirror_mode": {
    "name": "ipython",
    "version": 3
   },
   "file_extension": ".py",
   "mimetype": "text/x-python",
   "name": "python",
   "nbconvert_exporter": "python",
   "pygments_lexer": "ipython3",
   "version": "3.6.0"
  }
 },
 "nbformat": 4,
 "nbformat_minor": 2
}
