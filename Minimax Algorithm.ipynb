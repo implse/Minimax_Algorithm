{
 "cells": [
  {
   "cell_type": "markdown",
   "metadata": {},
   "source": [
    "# Minimax"
   ]
  },
  {
   "cell_type": "markdown",
   "metadata": {},
   "source": [
    "![title](images/TicTacToe_480_360.png)"
   ]
  },
  {
   "cell_type": "markdown",
   "metadata": {},
   "source": [
    "## What is Minimax?"
   ]
  },
  {
   "cell_type": "markdown",
   "metadata": {},
   "source": [
    "The minimax algorithm is a decision making algorithm that is used for finding the best move in a two player game. It’s a recursive algorithm.\n",
    "\n",
    "It consists of navigating through a tree which captures all the possible moves in the games, where each move is represented in terms of loss and gain for one of the players.\n",
    "\n",
    "It is a tree-based algorithm, performing a Depth First Search.\n",
    "\n",
    "It is used in games such as tic-tac-toe, chess and many other two-player games."
   ]
  },
  {
   "cell_type": "markdown",
   "metadata": {},
   "source": [
    "## Tree Representation"
   ]
  },
  {
   "cell_type": "markdown",
   "metadata": {},
   "source": [
    "The minimax algorithm is modeled as a tree. Different elements of the game (as the current state and all possible moves) are represented as different parts of the tree. This visual representation of the game is a great aid in order to implement the minimax algorithm."
   ]
  },
  {
   "cell_type": "markdown",
   "metadata": {},
   "source": [
    "Tree Based Desicion Making consist of predict the outcome of all possible players moves then the algorithm choose the move that yields the best result."
   ]
  },
  {
   "cell_type": "markdown",
   "metadata": {},
   "source": [
    "## How Does Minimax Work?"
   ]
  },
  {
   "cell_type": "markdown",
   "metadata": {},
   "source": [
    "There are two players involved in a adverserial game, `MAX` (maximizer) and call `MIN` (minimizer).\n",
    "\n",
    "The player `MAX` tries to get the highest possible score and `MIN` tries to get the lowest possible score."
   ]
  },
  {
   "cell_type": "markdown",
   "metadata": {},
   "source": [
    "## Terminology"
   ]
  },
  {
   "cell_type": "markdown",
   "metadata": {},
   "source": [
    "**`Game Tree`**: Structure in the form of a tree consisting of all possible moves which allow you to move from a state of the game to the next.\n",
    "\n",
    "\n",
    "**`Initial State`**: specified how the game is set up at the start.\n",
    "\n",
    "\n",
    "**`Terminal State`**: Check if the game is over or not.\n",
    "\n",
    "\n",
    "**`Utility Function`**: This function assigns a numeric value for the outcome of the game.\n",
    "\n",
    "\n",
    "**`Evaluation Function`**: Heuristic evaluation function defines an estimates of the expected utility numeric value from a given state of a player. The basic idea is to give a high value for the board if maximizer's turn and low value if minimizer's turn. This function is called when the game hasn't end.\n",
    "\n",
    "**`Successor function`**: Defines what the legal movess a player can make.\n",
    "\n",
    "\n",
    "**`Maximizer MAX`**: tries to get the maximum value.(score)\n",
    "\n",
    "\n",
    "**`Minimizer MIN`**: Tries to get te minimum value.(score)"
   ]
  },
  {
   "cell_type": "markdown",
   "metadata": {},
   "source": [
    "##  Tic Tac Toe Using The Minimax Algorithm."
   ]
  },
  {
   "cell_type": "markdown",
   "metadata": {},
   "source": [
    "### Minimax"
   ]
  },
  {
   "cell_type": "code",
   "execution_count": 16,
   "metadata": {
    "collapsed": true
   },
   "outputs": [],
   "source": [
    "def maximizing(board):\n",
    "    if terminal(board):\n",
    "        return utility(board)\n",
    "    v = float(\"-inf\")\n",
    "    for action in actions(board):\n",
    "        v = max(v, minimizing(result(board, action)))\n",
    "    return v\n",
    "\n",
    "def minimizing(board):\n",
    "    if terminal(board):\n",
    "        return utility(board)\n",
    "    v = float(\"inf\")\n",
    "    for action in actions(board):\n",
    "        v = min(v, maximizing(result(board, action)))\n",
    "    return v\n",
    "\n",
    "\n",
    "def minimax(board):\n",
    "    # Current Player\n",
    "    current_player = player(board)\n",
    "\n",
    "    # Maximizing\n",
    "    if current_player == X:\n",
    "        v = float(\"-inf\")\n",
    "        for action in actions(board):\n",
    "            k = minimizing(result(board, action))\n",
    "            if k > v:\n",
    "                v = k\n",
    "                best_action = action\n",
    "    # Minimizing\n",
    "    else:\n",
    "        v = float(\"inf\")\n",
    "        for action in actions(board):\n",
    "            k = maximizing(result(board, action))\n",
    "            if k < v:\n",
    "                v = k\n",
    "                best_action = action\n",
    "    return best_action"
   ]
  },
  {
   "cell_type": "markdown",
   "metadata": {},
   "source": [
    "### Game Board"
   ]
  },
  {
   "cell_type": "markdown",
   "metadata": {},
   "source": [
    "The board is represented as a list of lists."
   ]
  },
  {
   "cell_type": "code",
   "execution_count": 17,
   "metadata": {
    "collapsed": true
   },
   "outputs": [],
   "source": [
    "# Tic Tac Toe Board\n",
    "game_board = [[\"_\", \"_\", \"X\"],\n",
    "            [\"_\", \"O\", \"_\"],\n",
    "            [\"X\", \"_\", \"_\"]\n",
    "]"
   ]
  },
  {
   "cell_type": "markdown",
   "metadata": {},
   "source": [
    "### Variables"
   ]
  },
  {
   "cell_type": "code",
   "execution_count": 18,
   "metadata": {
    "collapsed": true
   },
   "outputs": [],
   "source": [
    "# X player\n",
    "X = \"X\"\n",
    "\n",
    "# O player\n",
    "O = \"O\"\n",
    "\n",
    "# Empty cell\n",
    "EMPTY = \"_\" "
   ]
  },
  {
   "cell_type": "markdown",
   "metadata": {},
   "source": [
    "### Initial State"
   ]
  },
  {
   "cell_type": "code",
   "execution_count": 19,
   "metadata": {
    "collapsed": true
   },
   "outputs": [],
   "source": [
    "# initial state : starting state of the board\n",
    "def initial_state():\n",
    "\n",
    "    return [[EMPTY, EMPTY, EMPTY],\n",
    "            [EMPTY, EMPTY, EMPTY],\n",
    "            [EMPTY, EMPTY, EMPTY]]"
   ]
  },
  {
   "cell_type": "markdown",
   "metadata": {},
   "source": [
    "### Next Player Turn"
   ]
  },
  {
   "cell_type": "code",
   "execution_count": 20,
   "metadata": {
    "collapsed": true
   },
   "outputs": [],
   "source": [
    "def player(board):\n",
    "    next_turn = 0\n",
    "    for row in board:\n",
    "        next_turn += row.count(X)\n",
    "        next_turn -= row.count(O)\n",
    "    return X if next_turn <= 0 else O"
   ]
  },
  {
   "cell_type": "markdown",
   "metadata": {},
   "source": [
    "### Available Actions"
   ]
  },
  {
   "cell_type": "code",
   "execution_count": 21,
   "metadata": {
    "collapsed": true
   },
   "outputs": [],
   "source": [
    "def actions(board):\n",
    "    available_positions = set()\n",
    "    for row in range(len(board)):\n",
    "        for col in range(len(board[0])):\n",
    "            if board[row][col] == EMPTY:\n",
    "                available_positions.add((row, col))\n",
    "    return available_positions"
   ]
  },
  {
   "cell_type": "markdown",
   "metadata": {},
   "source": [
    "### Making Action"
   ]
  },
  {
   "cell_type": "code",
   "execution_count": 22,
   "metadata": {
    "collapsed": true
   },
   "outputs": [],
   "source": [
    "def result(board, action):\n",
    "    i, j = action\n",
    "    new_board = copy.deepcopy(board)\n",
    "    new_board[i][j] = player(board)\n",
    "    return new_board"
   ]
  },
  {
   "cell_type": "markdown",
   "metadata": {},
   "source": [
    "### Check For Winner"
   ]
  },
  {
   "cell_type": "code",
   "execution_count": 23,
   "metadata": {
    "collapsed": true
   },
   "outputs": [],
   "source": [
    "def winner(board):\n",
    "    if utility(board) == 1:\n",
    "        return X\n",
    "    if utility(board) == -1:\n",
    "        return O\n",
    "    return None"
   ]
  },
  {
   "cell_type": "markdown",
   "metadata": {},
   "source": [
    "### Check For Game Over"
   ]
  },
  {
   "cell_type": "code",
   "execution_count": 24,
   "metadata": {
    "collapsed": true
   },
   "outputs": [],
   "source": [
    "def terminal(board):\n",
    "    if len(actions(board)) == 0 or winner(board) == X or winner(board) == O:\n",
    "        return True\n",
    "    return False"
   ]
  },
  {
   "cell_type": "markdown",
   "metadata": {},
   "source": [
    "### Utility"
   ]
  },
  {
   "cell_type": "code",
   "execution_count": 25,
   "metadata": {
    "collapsed": true
   },
   "outputs": [],
   "source": [
    "def utility(board):\n",
    "    \"\"\"\n",
    "    Returns 1 if X has won the game, -1 if O has won, 0 otherwise.\n",
    "    \"\"\"\n",
    "    # Check each row for a winner\n",
    "    for row in board:\n",
    "        if row.count(X) == 3:\n",
    "            return 1\n",
    "        if row.count(O) == 3:\n",
    "            return -1\n",
    "\n",
    "    # Check vertically for a winner\n",
    "    for i in range(3):\n",
    "        if board[0][i] == X and board[1][i] == X and board[2][i] == X:\n",
    "            return 1\n",
    "        if board[0][i] == O and board[1][i] == O and board[2][i] == O:\n",
    "            return -1\n",
    "\n",
    "    # Check for a winner Diagonally from bottom left to top right\n",
    "    if board[2][0] == X and board[1][1] == X and board[0][2] == X:\n",
    "        return 1\n",
    "    if board[2][0] == O and board[1][1] == O and board[0][2] == O:\n",
    "        return -1\n",
    "\n",
    "    # Check for a winner Diagonally from top left to bottom right\n",
    "    if board[0][0] == X and board[1][1] == X and board[2][2] == X:\n",
    "        return 1\n",
    "    if board[0][0] == O and board[1][1] == O and board[2][2] == O:\n",
    "        return -1\n",
    "\n",
    "    # tie or no winner return 0\n",
    "    return 0"
   ]
  },
  {
   "cell_type": "markdown",
   "metadata": {},
   "source": [
    "### Print Board Utility"
   ]
  },
  {
   "cell_type": "code",
   "execution_count": 26,
   "metadata": {
    "collapsed": false
   },
   "outputs": [],
   "source": [
    "def print_board(board):\n",
    "    print(\"\\n\")\n",
    "    print(\"Tic-Tac-Toe\")\n",
    "    print(\"\\n\")\n",
    "    print(\"Player 1 ((X)) - Player 2 O\")\n",
    "    print(\"\\n\")\n",
    "    print(\"     |     |     \")\n",
    "    print(\"  \" + board[0][0] + \"  |  \" + board[0][1] + \"  |  \" + board[0][2] + \"  \")\n",
    "    print(\"_____|_____|_____\")\n",
    "    print(\"     |     |     \")\n",
    "    print(\"  \" + board[1][0] + \"  |  \" + board[1][1] + \"  |  \" + board[1][2] + \"  \")\n",
    "    print(\"_____|_____|_____\")\n",
    "    print(\"     |     |     \")\n",
    "    print(\"  \" + board[2][0] + \"  |  \" + board[2][1] + \"  |  \" + board[2][2] + \"  \")\n",
    "    print(\"     |     |     \")"
   ]
  },
  {
   "cell_type": "code",
   "execution_count": 27,
   "metadata": {
    "collapsed": false
   },
   "outputs": [
    {
     "name": "stdout",
     "output_type": "stream",
     "text": [
      "\n",
      "\n",
      "Tic-Tac-Toe\n",
      "\n",
      "\n",
      "Player 1 ((X)) - Player 2 O\n",
      "\n",
      "\n",
      "     |     |     \n",
      "  _  |  _  |  _  \n",
      "_____|_____|_____\n",
      "     |     |     \n",
      "  _  |  _  |  _  \n",
      "_____|_____|_____\n",
      "     |     |     \n",
      "  _  |  _  |  _  \n",
      "     |     |     \n"
     ]
    }
   ],
   "source": [
    "print_board(initial_state())"
   ]
  },
  {
   "cell_type": "markdown",
   "metadata": {},
   "source": [
    "## Let's Play"
   ]
  },
  {
   "cell_type": "code",
   "execution_count": null,
   "metadata": {
    "collapsed": true
   },
   "outputs": [],
   "source": []
  }
 ],
 "metadata": {
  "kernelspec": {
   "display_name": "Python 3",
   "language": "python",
   "name": "python3"
  },
  "language_info": {
   "codemirror_mode": {
    "name": "ipython",
    "version": 3
   },
   "file_extension": ".py",
   "mimetype": "text/x-python",
   "name": "python",
   "nbconvert_exporter": "python",
   "pygments_lexer": "ipython3",
   "version": "3.6.0"
  }
 },
 "nbformat": 4,
 "nbformat_minor": 2
}
