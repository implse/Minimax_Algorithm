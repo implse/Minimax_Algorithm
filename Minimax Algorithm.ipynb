{
 "cells": [
  {
   "cell_type": "markdown",
   "metadata": {},
   "source": [
    "# Minimax"
   ]
  },
  {
   "cell_type": "markdown",
   "metadata": {},
   "source": [
    "![title](images/TicTacToe_480_360.png)"
   ]
  },
  {
   "cell_type": "markdown",
   "metadata": {},
   "source": [
    "## What is Minimax?"
   ]
  },
  {
   "cell_type": "markdown",
   "metadata": {},
   "source": [
    "The minimax algorithm is a decision making algorithm that is used for finding the best move in a two player game. It’s a recursive algorithm.\n",
    "\n",
    "It consists of navigating through a tree which captures all the possible moves in the games, where each move is represented in terms of loss and gain for one of the players.\n",
    "\n",
    "It is a tree-based algorithm, performing a `Depth First Search`.\n",
    "\n",
    "It is used in games such as tic-tac-toe, chess and many other two-player games."
   ]
  },
  {
   "cell_type": "markdown",
   "metadata": {},
   "source": [
    "## Tree Representation"
   ]
  },
  {
   "cell_type": "markdown",
   "metadata": {},
   "source": [
    "The minimax algorithm is modeled as a tree. Different elements of the game (as the current state and all possible moves) are represented as different parts of the tree. This visual representation of the game is a great aid in order to implement the minimax algorithm."
   ]
  },
  {
   "cell_type": "markdown",
   "metadata": {},
   "source": [
    "Tree Based Desicion Making consist of predict the outcome of all possible players moves then the algorithm choose the move that yields the best result."
   ]
  },
  {
   "cell_type": "markdown",
   "metadata": {},
   "source": [
    "## How Does Minimax Works?"
   ]
  },
  {
   "cell_type": "markdown",
   "metadata": {},
   "source": [
    "There are two players involved in a adverserial game, `MAX` (maximizer) and \n",
    "`MIN` (minimizer).\n",
    "\n",
    "The player `MAX` tries to get the highest possible score and `MIN` tries to get the lowest possible score.\n",
    "\n",
    "Minimax search, recursively in `Depth First Search`, the best move that leads the `MAX` player to win or not lose (draw). It consider the current state of the game and the available moves at that state, then for each valid move it plays (alternating `MIN` and `MAX`) until it finds a terminal state (win, draw or lose)."
   ]
  },
  {
   "cell_type": "markdown",
   "metadata": {},
   "source": [
    "## Terminology"
   ]
  },
  {
   "cell_type": "markdown",
   "metadata": {},
   "source": [
    "**`Game Tree`**: Structure in the form of a tree consisting of all possible moves which allow you to move from a state of the game to the next.\n",
    "\n",
    "\n",
    "**`Initial State`**: specified how the game is set up at the start.\n",
    "\n",
    "\n",
    "**`Terminal State`**: Check if the game is over or not.\n",
    "\n",
    "\n",
    "**`Utility Function`**: This function assigns a numeric value for the outcome of the game.\n",
    "\n",
    "\n",
    "**`Evaluation Function`**: Heuristic evaluation function defines an estimates of the expected utility numeric value from a given state of a player. The basic idea is to give a high value for the board if `maximizer's` turn and low value if `minimizer's` turn. This function is called when the game hasn't end.\n",
    "\n",
    "**`Successor function`**: Defines what the legal movess a player can make.\n",
    "\n",
    "\n",
    "**`Maximizer MAX`**: tries to get the maximum value.(score)\n",
    "\n",
    "\n",
    "**`Minimizer MIN`**: Tries to get te minimum value.(score)"
   ]
  },
  {
   "cell_type": "markdown",
   "metadata": {},
   "source": [
    "##   Implementation of Minimax Tic-Tac-Toe"
   ]
  },
  {
   "cell_type": "code",
   "execution_count": null,
   "metadata": {
    "collapsed": true
   },
   "outputs": [],
   "source": [
    "import copy\n",
    "\n",
    "def maximizing(board):\n",
    "    if terminal(board):\n",
    "        return utility(board)\n",
    "    v = float(\"-inf\")\n",
    "    for action in actions(board):\n",
    "        v = max(v, minimizing(result(board, action)))\n",
    "    return v\n",
    "\n",
    "def minimizing(board):\n",
    "    if terminal(board):\n",
    "        return utility(board)\n",
    "    v = float(\"inf\")\n",
    "    for action in actions(board):\n",
    "        v = min(v, maximizing(result(board, action)))\n",
    "    return v\n",
    "\n",
    "\n",
    "def minimax(board):\n",
    "    # Current Player\n",
    "    current_player = player(board)\n",
    "\n",
    "    # Maximizing\n",
    "    if current_player == X:\n",
    "        v = float(\"-inf\")\n",
    "        for action in actions(board):\n",
    "            k = minimizing(result(board, action))\n",
    "            if k > v:\n",
    "                v = k\n",
    "                best_action = action\n",
    "    # Minimizing\n",
    "    else:\n",
    "        v = float(\"inf\")\n",
    "        for action in actions(board):\n",
    "            k = maximizing(result(board, action))\n",
    "            if k < v:\n",
    "                v = k\n",
    "                best_action = action\n",
    "    return best_action"
   ]
  },
  {
   "cell_type": "markdown",
   "metadata": {},
   "source": [
    "## Let's Play in the Terminal"
   ]
  },
  {
   "cell_type": "markdown",
   "metadata": {},
   "source": [
    "Open a terminal and run `python TicTacToe.py`"
   ]
  },
  {
   "cell_type": "markdown",
   "metadata": {},
   "source": [
    "You are playing with `X` and your opponent (the computer running `minimax`) playing with `O`."
   ]
  },
  {
   "cell_type": "markdown",
   "metadata": {},
   "source": [
    "Choose a position `1 to 9`"
   ]
  },
  {
   "cell_type": "markdown",
   "metadata": {},
   "source": [
    "Try to win the game if you can beat `minimax`."
   ]
  },
  {
   "cell_type": "markdown",
   "metadata": {},
   "source": [
    "## Depth Limited Search"
   ]
  },
  {
   "cell_type": "markdown",
   "metadata": {},
   "source": [
    "The size of the game tree is a very important restriction in a minimax algorithm, given that it is not possible to visit all states in a reasonable time. \n",
    "\n",
    "When the size of the game tree is very large, several heuristics can be applied to find a good solution of the minimax algorithm.\n",
    "\n",
    "The solution is to only search the tree to a specified depth. We need a good evaluation function to estimate the path underneath current node."
   ]
  },
  {
   "cell_type": "markdown",
   "metadata": {},
   "source": [
    "### Evaluation Function"
   ]
  },
  {
   "cell_type": "markdown",
   "metadata": {},
   "source": [
    "What's a good evaluation function?\n",
    "\n",
    "- It must order terminal states just like the utility function.\n",
    "- It must return quickly.\n",
    "- It must return an estimatiob of the actual chances of wining."
   ]
  },
  {
   "cell_type": "markdown",
   "metadata": {},
   "source": [
    "## Alpha-Beta Pruning"
   ]
  },
  {
   "cell_type": "markdown",
   "metadata": {},
   "source": [
    "`Alpha-beta pruning` is a modified version of the minimax algorithm. It is an optimization technique for the minimax algorithm. \n",
    "\n",
    "The `Alpha-beta pruning` returns the same move as the minimax algorithm does, but it removes (prunes) all the nodes that are possibly not affecting the final decision.\n",
    "\n",
    "`Alpha-beta pruning` can be applied at any depth of a tree, and sometimes it not only prune the tree leaves but also entire sub-tree."
   ]
  },
  {
   "cell_type": "markdown",
   "metadata": {},
   "source": [
    "### Parameters"
   ]
  },
  {
   "cell_type": "markdown",
   "metadata": {},
   "source": [
    "`Alpha` : The best (highest-value) choice we have found so far at any point along the path of Maximizer. The initial value of alpha is `-infinity`. \n",
    "\n",
    "`Beta` : The best (lowest-value) choice we have found so far at any point along the path of Minimizer. The initial value of beta is `+infinity`.\n",
    "\n",
    "\n",
    "The condition to prune a node is when alpha becomes greater than or equal to beta. `alpha >= beta`"
   ]
  },
  {
   "cell_type": "markdown",
   "metadata": {},
   "source": [
    "### Key points"
   ]
  },
  {
   "cell_type": "markdown",
   "metadata": {},
   "source": [
    "- The `maximizer` player will only update the value of `alpha`.\n",
    "\n",
    "\n",
    "- The `minimizer` player will only update the value of `beta`.\n",
    "\n",
    "\n",
    "- While backtracking the tree, the node values will be passed to upper nodes instead of values of `alpha` and `beta`."
   ]
  },
  {
   "cell_type": "markdown",
   "metadata": {},
   "source": [
    "When implementing alpha-beta pruning in the minimax algorithm, its execution time is drastically decreased. For a given unit of time, a minimax algorithm with alpha-beta pruning can go down twice as far as a minimax algorithm without this pruning technique."
   ]
  },
  {
   "cell_type": "code",
   "execution_count": null,
   "metadata": {
    "collapsed": true
   },
   "outputs": [],
   "source": []
  }
 ],
 "metadata": {
  "kernelspec": {
   "display_name": "Python 3",
   "language": "python",
   "name": "python3"
  },
  "language_info": {
   "codemirror_mode": {
    "name": "ipython",
    "version": 3
   },
   "file_extension": ".py",
   "mimetype": "text/x-python",
   "name": "python",
   "nbconvert_exporter": "python",
   "pygments_lexer": "ipython3",
   "version": "3.6.0"
  }
 },
 "nbformat": 4,
 "nbformat_minor": 2
}
