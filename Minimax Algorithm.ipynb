{
 "cells": [
  {
   "cell_type": "markdown",
   "metadata": {},
   "source": [
    "# Minimax"
   ]
  },
  {
   "cell_type": "markdown",
   "metadata": {},
   "source": [
    "## What is Minimax?"
   ]
  },
  {
   "cell_type": "markdown",
   "metadata": {},
   "source": [
    "The minimax algorithm is a decision making algorithm that is used for finding the best move in a two player game. It’s a recursive algorithm.\n",
    "\n",
    "It consists of navigating through a tree which captures all the possible moves in the games, where each move is represented in terms of loss and gain for one of the players.\n",
    "\n",
    "It is used in games such as tic-tac-toe, chess and many other two-player games."
   ]
  },
  {
   "cell_type": "markdown",
   "metadata": {},
   "source": [
    "## Terminology"
   ]
  },
  {
   "cell_type": "markdown",
   "metadata": {},
   "source": [
    "**Game Tree**: Structure in the form of a tree consisting of all possible moves which allow you to move from a state of the game to the next.\n",
    "\n",
    "**Initial State**: specified how the game is set up at the start.\n",
    "\n",
    "**Terminal State**: Check if the game is over or not.\n",
    "\n",
    "** Utility function**: This function assigns a numeric value for the outcome of the game.\n",
    "\n",
    "** Successor function**: Defines what the legal movess a player can make.\n",
    "\n",
    "** Evaluation function**: Heuristic evaluation function defines an estimates of the expected utility numeric value from a given state of a player. The basic idea is to give a high value for the board if maximizer's turn and low value if minimizer's turn. This function is called when the game hasn't end.\n",
    "\n",
    "** Maximizer**: tries to get the maximum value.(score)\n",
    "\n",
    "** Minimizer**: Tries to get te minimum value.(score)"
   ]
  },
  {
   "cell_type": "markdown",
   "metadata": {},
   "source": [
    "## Representation"
   ]
  },
  {
   "cell_type": "markdown",
   "metadata": {},
   "source": [
    "The minimax algorithm is modeled as a tree. Different elements of the game (as the current state and all possible moves) are represented as different parts of the tree. This visual representation of the game is a great aid in order to implement the minimax algorithm."
   ]
  },
  {
   "cell_type": "markdown",
   "metadata": {},
   "source": [
    "## Tree Based Desicion Making"
   ]
  },
  {
   "cell_type": "markdown",
   "metadata": {},
   "source": [
    "This technique consist of predict the outcome of all possible players moves then the algorithm choose the move that yields the best result."
   ]
  },
  {
   "cell_type": "code",
   "execution_count": null,
   "metadata": {
    "collapsed": true
   },
   "outputs": [],
   "source": []
  }
 ],
 "metadata": {
  "kernelspec": {
   "display_name": "Python 3",
   "language": "python",
   "name": "python3"
  },
  "language_info": {
   "codemirror_mode": {
    "name": "ipython",
    "version": 3
   },
   "file_extension": ".py",
   "mimetype": "text/x-python",
   "name": "python",
   "nbconvert_exporter": "python",
   "pygments_lexer": "ipython3",
   "version": "3.6.0"
  }
 },
 "nbformat": 4,
 "nbformat_minor": 2
}
